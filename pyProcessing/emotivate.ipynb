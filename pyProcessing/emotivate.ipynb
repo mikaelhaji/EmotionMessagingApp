{
 "cells": [
  {
   "cell_type": "code",
   "execution_count": 1,
   "source": [
    "import time\r\n",
    "from brainflow.board_shim import BoardShim, BrainFlowInputParams\r\n",
    "from brainflow.data_filter import DataFilter, FilterTypes, AggOperations\r\n",
    "\r\n",
    "\r\n",
    "def main():\r\n",
    "    BoardShim.enable_dev_board_logger()\r\n",
    "\r\n",
    "    params = BrainFlowInputParams()\r\n",
    "    params.serial_port = \"COM port for BLE Dongle\"\r\n",
    "    params.timeout = \"timeout for device discovery or connection\"\r\n",
    "\r\n",
    "    board = BoardShim(22, params)\r\n",
    "    board.prepare_session()\r\n",
    "\r\n",
    "    # board.start_stream () # use this for default options\r\n",
    "    board.start_stream(45000)\r\n",
    "    time.sleep(10)\r\n",
    "    # data = board.get_current_board_data (256) # get latest 256 packages or less, doesnt remove them from internal buffer\r\n",
    "    data = board.get_board_data()  # get all data and remove it from internal buffer\r\n",
    "    board.stop_stream()\r\n",
    "    board.release_session()\r\n",
    "\r\n",
    "    print(data)\r\n",
    "\r\n",
    "\r\n",
    "if __name__ == \"__main__\":\r\n",
    "    main()"
   ],
   "outputs": [
    {
     "output_type": "stream",
     "name": "stderr",
     "text": [
      "usage: ipykernel_launcher.py [-h] [--timeout TIMEOUT]\n",
      "                             [--serial-port SERIAL_PORT]\n",
      "                             [--serial-number SERIAL_NUMBER] --board-id\n",
      "                             BOARD_ID\n",
      "ipykernel_launcher.py: error: the following arguments are required: --board-id\n"
     ]
    },
    {
     "output_type": "error",
     "ename": "SystemExit",
     "evalue": "2",
     "traceback": [
      "An exception has occurred, use %tb to see the full traceback.\n",
      "\u001b[1;31mSystemExit\u001b[0m\u001b[1;31m:\u001b[0m 2\n"
     ]
    },
    {
     "output_type": "stream",
     "name": "stderr",
     "text": [
      "C:\\Users\\anush\\miniconda3\\lib\\site-packages\\IPython\\core\\interactiveshell.py:3449: UserWarning: To exit: use 'exit', 'quit', or Ctrl-D.\n",
      "  warn(\"To exit: use 'exit', 'quit', or Ctrl-D.\", stacklevel=1)\n"
     ]
    }
   ],
   "metadata": {}
  }
 ],
 "metadata": {
  "orig_nbformat": 4,
  "language_info": {
   "name": "python",
   "version": "3.9.1",
   "mimetype": "text/x-python",
   "codemirror_mode": {
    "name": "ipython",
    "version": 3
   },
   "pygments_lexer": "ipython3",
   "nbconvert_exporter": "python",
   "file_extension": ".py"
  },
  "kernelspec": {
   "name": "python3",
   "display_name": "Python 3.9.1 64-bit ('base': conda)"
  },
  "interpreter": {
   "hash": "980167e7b228e73714837104a7b73144c79cc317075b5eac2b4d7ac7720305e7"
  }
 },
 "nbformat": 4,
 "nbformat_minor": 2
}